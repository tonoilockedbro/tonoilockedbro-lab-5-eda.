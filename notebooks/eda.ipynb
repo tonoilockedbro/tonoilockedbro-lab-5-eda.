{
 "cells": [
  {
   "cell_type": "markdown",
   "id": "0d335cf7",
   "metadata": {},
   "source": [
    " Lab 5 | EDA & Visualisation."
   ]
  },
  {
   "cell_type": "code",
   "execution_count": 4,
   "id": "24205059",
   "metadata": {},
   "outputs": [
    {
     "data": {
      "text/html": [
       "<div>\n",
       "<style scoped>\n",
       "    .dataframe tbody tr th:only-of-type {\n",
       "        vertical-align: middle;\n",
       "    }\n",
       "\n",
       "    .dataframe tbody tr th {\n",
       "        vertical-align: top;\n",
       "    }\n",
       "\n",
       "    .dataframe thead th {\n",
       "        text-align: right;\n",
       "    }\n",
       "</style>\n",
       "<table border=\"1\" class=\"dataframe\">\n",
       "  <thead>\n",
       "    <tr style=\"text-align: right;\">\n",
       "      <th></th>\n",
       "      <th>student_id</th>\n",
       "      <th>age</th>\n",
       "      <th>gpa</th>\n",
       "      <th>gender</th>\n",
       "      <th>major</th>\n",
       "      <th>year</th>\n",
       "    </tr>\n",
       "  </thead>\n",
       "  <tbody>\n",
       "    <tr>\n",
       "      <th>0</th>\n",
       "      <td>1</td>\n",
       "      <td>14</td>\n",
       "      <td>NaN</td>\n",
       "      <td>F</td>\n",
       "      <td>Economics</td>\n",
       "      <td>freshman</td>\n",
       "    </tr>\n",
       "    <tr>\n",
       "      <th>1</th>\n",
       "      <td>2</td>\n",
       "      <td>17</td>\n",
       "      <td>2.92</td>\n",
       "      <td>M</td>\n",
       "      <td>History</td>\n",
       "      <td>senior</td>\n",
       "    </tr>\n",
       "    <tr>\n",
       "      <th>2</th>\n",
       "      <td>3</td>\n",
       "      <td>17</td>\n",
       "      <td>2.97</td>\n",
       "      <td>F</td>\n",
       "      <td>Physics</td>\n",
       "      <td>senior</td>\n",
       "    </tr>\n",
       "    <tr>\n",
       "      <th>3</th>\n",
       "      <td>4</td>\n",
       "      <td>16</td>\n",
       "      <td>2.76</td>\n",
       "      <td>F</td>\n",
       "      <td>Physics</td>\n",
       "      <td>junior</td>\n",
       "    </tr>\n",
       "    <tr>\n",
       "      <th>4</th>\n",
       "      <td>5</td>\n",
       "      <td>16</td>\n",
       "      <td>2.24</td>\n",
       "      <td>M</td>\n",
       "      <td>Chemistry</td>\n",
       "      <td>junior</td>\n",
       "    </tr>\n",
       "  </tbody>\n",
       "</table>\n",
       "</div>"
      ],
      "text/plain": [
       "   student_id  age   gpa gender      major      year\n",
       "0           1   14   NaN      F  Economics  freshman\n",
       "1           2   17  2.92      M    History    senior\n",
       "2           3   17  2.97      F    Physics    senior\n",
       "3           4   16  2.76      F    Physics    junior\n",
       "4           5   16  2.24      M  Chemistry    junior"
      ]
     },
     "execution_count": 4,
     "metadata": {},
     "output_type": "execute_result"
    }
   ],
   "source": [
    "import pandas as pd\n",
    "df = pd.read_csv(\"../data/student.csv\")\n",
    "df.head()"
   ]
  },
  {
   "cell_type": "code",
   "execution_count": 8,
   "id": "04aa5d49",
   "metadata": {},
   "outputs": [
    {
     "name": "stdout",
     "output_type": "stream",
     "text": [
      "<class 'pandas.core.frame.DataFrame'>\n",
      "RangeIndex: 100 entries, 0 to 99\n",
      "Data columns (total 6 columns):\n",
      " #   Column      Non-Null Count  Dtype  \n",
      "---  ------      --------------  -----  \n",
      " 0   student_id  100 non-null    int64  \n",
      " 1   age         100 non-null    int64  \n",
      " 2   gpa         90 non-null     float64\n",
      " 3   gender      100 non-null    object \n",
      " 4   major       95 non-null     object \n",
      " 5   year        100 non-null    object \n",
      "dtypes: float64(1), int64(2), object(3)\n",
      "memory usage: 4.8+ KB\n",
      "Missing values in each column:student_id     0\n",
      "age            0\n",
      "gpa           10\n",
      "gender         0\n",
      "major          5\n",
      "year           0\n",
      "dtype: int64\n"
     ]
    }
   ],
   "source": [
    "df.info()\n",
    "missing = df.isna().sum()\n",
    "print(f\"Missing values in each column:{missing}\")"
   ]
  },
  {
   "cell_type": "markdown",
   "id": "3bbe9045",
   "metadata": {},
   "source": [
    "The most missing colum is gpa as it says 10 in the missing columns. This is might because of the incompleteness of the data in gpa."
   ]
  },
  {
   "cell_type": "code",
   "execution_count": null,
   "id": "38ea612c",
   "metadata": {},
   "outputs": [
    {
     "name": "stdout",
     "output_type": "stream",
     "text": [
      "   mean_gpa  count_gpa  median_gpa   std_gpa  min_gpa  max_gpa  count_age  \\\n",
      "0  2.624667         90       2.665  0.476898     1.63     3.93        100   \n",
      "\n",
      "   mean_age  median_age   std_age  min_age  max_age  \n",
      "0     16.13        16.0  1.375507       14       18  \n"
     ]
    }
   ],
   "source": [
    "data = {\n",
    "    \"mean_gpa\": df['gpa'].mean(),\n",
    "    \"count_gpa\": df['gpa'].count(),\n",
    "    \"median_gpa\": df['gpa'].median(),\n",
    "    \"std_gpa\": df['gpa'].std(),\n",
    "    \"min_gpa\": df['gpa'].min(),\n",
    "    \"max_gpa\": df['gpa'].max(),\n",
    "    \"count_age\" : df['age'].count(),\n",
    "    \"mean_age\": df['age'].mean(),\n",
    "    \"median_age\": df['age'].median(),\n",
    "    \"std_age\": df['age'].std(),\n",
    "    \"min_age\": df['age'].min(),\n",
    "    \"max_age\": df['age'].max(),\n",
    "}\n",
    "summary = pd.DataFrame(data, index=[0])\n",
    "print(summary)\n"
   ]
  },
  {
   "cell_type": "code",
   "execution_count": 13,
   "id": "fe32fd5d",
   "metadata": {},
   "outputs": [
    {
     "data": {
      "text/plain": [
       "<Axes: xlabel='gpa', ylabel='Count'>"
      ]
     },
     "execution_count": 13,
     "metadata": {},
     "output_type": "execute_result"
    },
    {
     "data": {
      "image/png": "[encoded data removed]",
      "text/plain": [
       "<Figure size 640x480 with 1 Axes>"
      ]
     },
     "metadata": {},
     "output_type": "display_data"
    }
   ],
   "source": [
    "import seaborn as sns\n",
    "df['age'].hist(bins=range(14, 19), align=\"left\", rwidth=0.8)\n",
    "sns.histplot(df[\"gpa\"], kde=True)"
   ]
  },
  {
   "cell_type": "markdown",
   "id": "e46cc7b4",
   "metadata": {},
   "source": [
    "Age is less concise than the distribution for gpa. GPA data set has a more normal distribution whereas the age one is more skewed."
   ]
  },
  {
   "cell_type": "code",
   "execution_count": 15,
   "id": "e8092396",
   "metadata": {},
   "outputs": [
    {
     "data": {
      "image/png": "[encoded data removed]",
      "text/plain": [
       "<Figure size 640x480 with 1 Axes>"
      ]
     },
     "metadata": {},
     "output_type": "display_data"
    },
    {
     "data": {
      "text/plain": [
       "np.float64(0.8786075344584666)"
      ]
     },
     "execution_count": 15,
     "metadata": {},
     "output_type": "execute_result"
    }
   ],
   "source": [
    "import matplotlib.pyplot as plt\n",
    "plt.scatter(df['age'], df['gpa'])\n",
    "plt.xlabel('Age')\n",
    "plt.ylabel('GPA')\n",
    "plt.title('Scatter plot of Age vs GPA')\n",
    "plt.show()\n",
    "df[\"age\"].corr(df[\"gpa\"])"
   ]
  },
  {
   "cell_type": "markdown",
   "id": "db3ce484",
   "metadata": {},
   "source": [
    "GPA trends up when the age is rising"
   ]
  },
  {
   "cell_type": "code",
   "execution_count": 22,
   "id": "be2afb1a",
   "metadata": {},
   "outputs": [
    {
     "name": "stdout",
     "output_type": "stream",
     "text": [
      "0            economics\n",
      "1              history\n",
      "2              physics\n",
      "3              physics\n",
      "4            chemistry\n",
      "            ...       \n",
      "95                 art\n",
      "96                 art\n",
      "97    computer science\n",
      "98      computer scien\n",
      "99             biology\n",
      "Name: major, Length: 100, dtype: object\n"
     ]
    },
    {
     "name": "stderr",
     "output_type": "stream",
     "text": [
      "/var/folders/d5/h2rxm25d61s9xnhg7lnfyc6m0000gn/T/ipykernel_25978/2815333486.py:3: FutureWarning: A value is trying to be set on a copy of a DataFrame or Series through chained assignment using an inplace method.\n",
      "The behavior will change in pandas 3.0. This inplace method will never work because the intermediate object on which we are setting values always behaves as a copy.\n",
      "\n",
      "For example, when doing 'df[col].method(value, inplace=True)', try using 'df.method({col: value}, inplace=True)' or df[col] = df[col].method(value) instead, to perform the operation inplace on the original object.\n",
      "\n",
      "\n",
      "  df[\"major\"].fillna(\"NaN\", inplace=True)\n"
     ]
    }
   ],
   "source": [
    "\n",
    "df[\"major\"]=df[\"major\"].str.lower()\n",
    "df[\"major\"]=df[\"major\"].str.strip()\n",
    "df[\"major\"].fillna(\"NaN\", inplace=True)\n",
    "print(df[\"major\"])\n",
    "df['major'].to_csv('../data/student_cleaned.csv', mode='a', header=False, index=False)\n"
   ]
  },
  {
   "cell_type": "markdown",
   "id": "74a2087d",
   "metadata": {},
   "source": [
    "In this practice, I learnt how to use dataframe to store data and use other packages like pandas to run the program as well. I also learnt how to use the data frame to plot scatterplot and correlation. Ultimately, I knew how to add the data to a new file."
   ]
  }
 ],
 "metadata": {
  "kernelspec": {
   "display_name": "lab_5",
   "language": "python",
   "name": "python3"
  },
  "language_info": {
   "codemirror_mode": {
    "name": "ipython",
    "version": 3
   },
   "file_extension": ".py",
   "mimetype": "text/x-python",
   "name": "python",
   "nbconvert_exporter": "python",
   "pygments_lexer": "ipython3",
   "version": "3.13.5"
  }
 },
 "nbformat": 4,
 "nbformat_minor": 5
}
